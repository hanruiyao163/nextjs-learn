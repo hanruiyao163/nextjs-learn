{
 "cells": [
  {
   "cell_type": "code",
   "execution_count": 1,
   "metadata": {},
   "outputs": [
    {
     "data": {
      "text/plain": [
       "{'messages': [HumanMessage(content='0.11和0.8哪个大', additional_kwargs={}, response_metadata={}, id='f40bcf79-c2f6-415d-919b-6d23f9d6fd48'),\n",
       "  AIMessage(content='\\n\\n要比较 \\\\(0.11\\\\) 和 \\\\(0.8\\\\) 的大小，可以按照以下步骤进行：\\n\\n1. **理解小数的含义**：\\n   - \\\\(0.11\\\\) 表示十分之一加上百分之一，即 \\\\(0.1 + 0.01 = 0.11\\\\)\\n   - \\\\(0.8\\\\) 表示十分之八，即 \\\\(0.8\\\\)\\n\\n2. **直接比较大小**：\\n   - \\\\(0.8\\\\) 明显大于 \\\\(0.11\\\\)\\n\\n**结论**：\\n\\\\[\\n\\\\boxed{0.8 \\\\text{ 大}}\\n\\\\]', additional_kwargs={'refusal': None}, response_metadata={'token_usage': {'completion_tokens': 199, 'prompt_tokens': 15, 'total_tokens': 214, 'completion_tokens_details': {'accepted_prediction_tokens': None, 'audio_tokens': None, 'reasoning_tokens': 62, 'rejected_prediction_tokens': None}, 'prompt_tokens_details': {'audio_tokens': None, 'cached_tokens': 0}}, 'model_name': 'deepseek-r1-distill-qwen-7b-250120', 'system_fingerprint': None, 'id': '021743061917453467adf82ab4a0e5496839785108c1f2d350546', 'finish_reason': 'stop', 'logprobs': None}, id='run-8468bc7c-b6f5-405a-a706-0afa337e9b98-0', usage_metadata={'input_tokens': 15, 'output_tokens': 199, 'total_tokens': 214, 'input_token_details': {'cache_read': 0}, 'output_token_details': {'reasoning': 62}})]}"
      ]
     },
     "execution_count": 1,
     "metadata": {},
     "output_type": "execute_result"
    }
   ],
   "source": [
    "from simple_agent import graph\n",
    "\n",
    "\n",
    "graph.invoke({\"messages\": [{\"role\": \"user\", \"content\": \"0.11和0.8哪个大\"}]})\n"
   ]
  },
  {
   "cell_type": "code",
   "execution_count": null,
   "metadata": {},
   "outputs": [],
   "source": []
  }
 ],
 "metadata": {
  "kernelspec": {
   "display_name": "llm",
   "language": "python",
   "name": "python3"
  },
  "language_info": {
   "codemirror_mode": {
    "name": "ipython",
    "version": 3
   },
   "file_extension": ".py",
   "mimetype": "text/x-python",
   "name": "python",
   "nbconvert_exporter": "python",
   "pygments_lexer": "ipython3",
   "version": "3.12.9"
  }
 },
 "nbformat": 4,
 "nbformat_minor": 2
}

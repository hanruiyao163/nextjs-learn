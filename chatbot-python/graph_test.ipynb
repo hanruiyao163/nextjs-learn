{
 "cells": [
  {
   "cell_type": "code",
   "execution_count": 26,
   "metadata": {},
   "outputs": [],
   "source": [
    "from simple_agent import graph\n",
    "\n",
    "messages = [\n",
    "    {\"role\": \"system\", \"content\": \"You are an assistant.\"},\n",
    "    {\"role\": \"user\", \"content\": \"0.11和0.8哪个大？\"},\n",
    "]\n",
    "for i in graph.stream({'messages': [{\"role\": \"user\", \"content\": \"0.11和0.8哪个大？\"}]}, stream_mode=\"messaegs\"):\n",
    "    # if 'reasoning_content' in i.additional_kwargs:\n",
    "    #     print(i.additional_kwargs['reasoning_content'], end='')\n",
    "    # else:\n",
    "    print(i)\n"
   ]
  }
 ],
 "metadata": {
  "kernelspec": {
   "display_name": "llm",
   "language": "python",
   "name": "python3"
  },
  "language_info": {
   "codemirror_mode": {
    "name": "ipython",
    "version": 3
   },
   "file_extension": ".py",
   "mimetype": "text/x-python",
   "name": "python",
   "nbconvert_exporter": "python",
   "pygments_lexer": "ipython3",
   "version": "3.12.9"
  }
 },
 "nbformat": 4,
 "nbformat_minor": 2
}

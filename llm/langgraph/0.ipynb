{
 "cells": [
  {
   "cell_type": "code",
   "execution_count": 32,
   "metadata": {},
   "outputs": [
    {
     "data": {
      "text/plain": [
       "True"
      ]
     },
     "execution_count": 32,
     "metadata": {},
     "output_type": "execute_result"
    }
   ],
   "source": [
    "import os\n",
    "from dotenv import load_dotenv\n",
    "from langchain_openai import ChatOpenAI\n",
    "from langchain_core.messages import HumanMessage\n",
    "from langchain_community.tools.tavily_search import TavilySearchResults\n",
    "\n",
    "load_dotenv()"
   ]
  },
  {
   "cell_type": "code",
   "execution_count": 13,
   "metadata": {},
   "outputs": [],
   "source": [
    "model = ChatOpenAI(\n",
    "    model=os.environ[\"MODEL\"], api_key=os.environ[\"ARK_API_KEY\"], base_url=os.environ[\"BASE_URL\"]\n",
    ")"
   ]
  },
  {
   "cell_type": "code",
   "execution_count": 15,
   "metadata": {},
   "outputs": [],
   "source": [
    "res = model.invoke(\"Hello, how are you?\")"
   ]
  },
  {
   "cell_type": "code",
   "execution_count": 21,
   "metadata": {},
   "outputs": [
    {
     "data": {
      "text/plain": [
       "{'token_usage': {'completion_tokens': 304,\n",
       "  'prompt_tokens': 11,\n",
       "  'total_tokens': 315,\n",
       "  'completion_tokens_details': {'accepted_prediction_tokens': None,\n",
       "   'audio_tokens': None,\n",
       "   'reasoning_tokens': 278,\n",
       "   'rejected_prediction_tokens': None},\n",
       "  'prompt_tokens_details': {'audio_tokens': None, 'cached_tokens': 0}},\n",
       " 'model_name': 'deepseek-r1-distill-qwen-7b-250120',\n",
       " 'system_fingerprint': None,\n",
       " 'finish_reason': 'stop',\n",
       " 'logprobs': None}"
      ]
     },
     "execution_count": 21,
     "metadata": {},
     "output_type": "execute_result"
    }
   ],
   "source": [
    "res.response_metadata"
   ]
  },
  {
   "cell_type": "code",
   "execution_count": 23,
   "metadata": {},
   "outputs": [
    {
     "data": {
      "text/plain": [
       "{'input_tokens': 11,\n",
       " 'output_tokens': 304,\n",
       " 'total_tokens': 315,\n",
       " 'input_token_details': {'cache_read': 0},\n",
       " 'output_token_details': {'reasoning': 278}}"
      ]
     },
     "execution_count": 23,
     "metadata": {},
     "output_type": "execute_result"
    }
   ],
   "source": [
    "res.usage_metadata"
   ]
  },
  {
   "cell_type": "code",
   "execution_count": 36,
   "metadata": {},
   "outputs": [],
   "source": [
    "search = TavilySearchResults(max_results=3)\n",
    "search_docs = search.invoke(\"什么是manus\")"
   ]
  },
  {
   "cell_type": "code",
   "execution_count": 42,
   "metadata": {},
   "outputs": [
    {
     "data": {
      "text/plain": [
       "'“套壳”的 Manus，告诉我们什么是真正的 AI Agent？ - 知乎 切换模式 写文章 登录/注册 “套壳”的 Manus，告诉我们什么是真正的 AI Agent？ 智领云科技 企业级大数据/数据中台解决方案提供商 2025年3月6日，AI领域迎来了一场“地震级”发布——http://Monica.im号称推出了全球首款通用AI Agent产品「Manus」一夜刷屏。 Manus的登场与http://Monica.im的营销叙事 这一产品以“数字代理人”自居，宣称能独立完成复杂任务并交付完整成果，迅速成为科技圈的焦点。 1. 产品定位与技术包装 Manus的核心卖点在于其“自主执行”能力。据官方资料，Manus通过多代理架构（Multiple Agent）将任务拆分为规划、执行、验证等子模块，每个代理基于独立的语言模型或强化学习模型，通过API协同工作，最终在虚拟机中调用工具（如编写代码、爬取数据）完成任务。其应用场景覆盖旅行规划、股票分析、教育内容生成等40余个领域，甚至在GAIA基准测试中刷新了SOTA（最先进）记录，宣称“性能远超OpenAI同类产品”。 2. 公司背景与营销策略 http://Monica.im的创始人肖弘（Red）被塑造为“连续创业天才”。其早期通过微信公众号工具盈利并出售，2022年借大模型浪潮转型AI领域，凭借海外市场产品ChatGPT for Google快速积累用户。Manus的营销重点在于“用户体验升级”——例如展示其能像“实习生”般解压文件、生成Excel表格，甚至记住用户偏好。通过社交媒体造势，用户为获取内测邀请码彻夜蹲守，进一步推高了市场期待。作为“连续创业者”创始人肖弘更引来不少科技大佬的“嘲讽”。 3. 宣传话术的“理想化” http://Monica.im将Manus定义为“数字世界的手”，强调其“无需人类干预”的泛用性。例如，在房产选购案例中，Manus被描述为能自动分析社区安全、学校质量并生成报告，俨然替代了专业经纪人。这种“全知全能”的叙事，成功将Manus包装为“AI技术革命的下一个里程碑”。 Manus的“套壳”争议与技术真相 尽管声势浩大，科技圈内很快出现质疑声：Manus是否仅为海外技术的“本土化套壳”？其“自主性”是否被过度夸大？ 1. 技术架构的“缝合”本质 有开发者指出，Manus的核心架构与Anthropic的“Computer Use”高度相似，均依赖多代理虚拟机环境完成任务。而其所谓的“自主规划”能力，实则是基于现有大语言模型（如GPT-4）的调用，并未展示底层技术的突破。例如，在股票分析案例中，Manus仅通过调用雅虎金融API获取数据，再借助Python脚本生成可视化图表，本质仍是工具链的拼接。 2. 海外市场的“降维移植” http://Monica.im的早期产品主要面向海外，Manus的底层框架被怀疑源自其海外团队的成熟方案。例如，其多代理协作机制与智领云科技的Agentic RAG系统设计理念雷同，但后者更强调自适应推理与动态规划。此外，Manus的云端异步运行模式虽宣称“无算力限制”，却未公开其分布式计算的核心算法，被质疑为依赖第三方云服务商的基础设施。 3. 用户反馈的“落差” 部分内测用户指出，Manus在专业场景（如金融分析）中表现不稳定。例如，其对股票相关性的分析依赖单一数据源，缺乏交叉验证机制，导致结论可信度存疑。此外，其“记忆用户偏好”功能仅限于简单场景（如表格格式），在复杂任务中仍需要人工干预。这些短板暴露了Manus与“真正AI Agent”的差距。 什么是真正的AI Agent？ 真正的 AI Agent 是一种能够自主理解和执行任务的智能实体，它可以在特定环境中根据用户指令或预设目标，自动感知、思考、决策并行动。AI Agent 能通过传感器等手段获取环境信息，利用内部的知识体系和智能算法进行分析处理，像人一样做出合理决策，还能通过与环境或其他 Agent 的交互不断学习和适应，以更好地完成任务，例如自动驾驶汽车能实时感知路况并做出驾驶决策，智能客服能自动回答用户问题，它们都是 AI Agent 在实际生活中的应用。 全球首款开源AI搜索开发框架--LeetTools的突破性实践 与Manus的营销驱动不同，智领云科技的LeetTools以开发框架形态真正定义了AI Agent的技术边界。作为AI搜索开发框架，LeetTools聚焦灵活性与定制性，为开发者提供了更底层的技术支撑。 1. 架构设计的先进性 LeetTools基于LLM-Agent Flow架构实现的文档数据处理流水线的RAG系统，是一款人工智能搜索助手。它可以执行高度可定制的AI搜索工作流程，并将搜索结果和生成的输出保存到本地知识库中；通过处理数据摄取、索引和存储的自动化文档管道，可以轻松运行复杂的搜索工作流，从网络或本地知识库中查询、提取和生成内容。同时，LeetTools可以使用DuckDB后端和可配置的LLM设置在命令行上以最低的资源要求运行。它可以很容易地与需要AI搜索和知识库支持的其他应用程序集成。其核心优势在于： 模块化扩展：支持无缝集成新数据源与工具，适应企业级复杂需求； 多跳检索：通过分解任务、调用多代理协作，实现精准信息提取； 语义缓存：减少重复计算成本，提升响应效率。 2. 用户驱动的定制化 与Manus的封闭系统不同，LeetTools允许开发者根据需求深度定制Agent。例如，企业可通过LlamaIndex构建专属文档代理，或结合强化学习优化检索策略。这种开放性使其在金融、医疗等专业领域展现出更强适配性。 3. 技术落地的真实价值 LeetTools的案例显示，其能处理传统RAG系统难以应对的复杂查询。例如，在科研场景中，Agent可自动合成多篇论文数据，生成假设并验证，而无需依赖预设模板。相比之下，Manus的“固定场景演示”更像定制化脚本，缺乏泛化能力。 AI Agent的技术分野与未来 Manus的爆火反映了市场对AI自主执行能力的迫切需求，但其技术本质仍是现有工具的集成，距离“真正AI Agent”尚有距离。而LeetTools代表的开发框架，通过开放生态与动态架构，为AI Agent的演进提供了更可持续的路径。未来，AI Agent的竞争将不止于功能展示，更在于底层技术的可解释性、扩展性与安全性——这才是技术革命的真正基石。 LeetTools：https://github.com/leettools-dev/leettools 相关推荐 碾压 OpenAI，DeepSeek-R1 发布！如何在本地实现 DeepSeek？ 更上层楼！仅用2GB资源，让最火的DeepSeek-R1在本机上奔跑！ 再上层楼，让DeepSeek-R1在16G内存，无GPU的Windows笔记本上本地运行！ 月上西楼！一行命令让本地大模型学会 DeepSeek 的深度思考！ 编辑于 2025-03-07 14:54・IP 属地河北 人工智能 Manus AI-Agent \\u200b赞同 56\\u200b\\u200b15 条评论 \\u200b分享 \\u200b喜欢\\u200b收藏\\u200b申请转载'"
      ]
     },
     "execution_count": 42,
     "metadata": {},
     "output_type": "execute_result"
    }
   ],
   "source": [
    "search_docs[0]['content']"
   ]
  }
 ],
 "metadata": {
  "kernelspec": {
   "display_name": "default",
   "language": "python",
   "name": "python3"
  },
  "language_info": {
   "codemirror_mode": {
    "name": "ipython",
    "version": 3
   },
   "file_extension": ".py",
   "mimetype": "text/x-python",
   "name": "python",
   "nbconvert_exporter": "python",
   "pygments_lexer": "ipython3",
   "version": "3.12.9"
  }
 },
 "nbformat": 4,
 "nbformat_minor": 2
}

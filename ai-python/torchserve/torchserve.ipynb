{
 "cells": [
  {
   "cell_type": "code",
   "execution_count": 6,
   "metadata": {},
   "outputs": [],
   "source": [
    "from ultralytics import YOLO\n",
    "\n",
    "\n",
    "model = YOLO(\"../yolo11n.pt\")"
   ]
  },
  {
   "cell_type": "code",
   "execution_count": 7,
   "metadata": {},
   "outputs": [
    {
     "name": "stdout",
     "output_type": "stream",
     "text": [
      "\n",
      "image 1/1 d:\\Programming\\nextjs-learn\\ai-python\\torchserve\\..\\images\\eva.jpg: 480x640 1 umbrella, 1 kite, 40.7ms\n",
      "Speed: 2.0ms preprocess, 40.7ms inference, 4.0ms postprocess per image at shape (1, 3, 480, 640)\n"
     ]
    }
   ],
   "source": [
    "model.eval()\n",
    "res = model(\"../images/eva.jpg\")"
   ]
  },
  {
   "cell_type": "code",
   "execution_count": 17,
   "metadata": {},
   "outputs": [
    {
     "data": {
      "text/plain": [
       "tensor([[ 577.5701,  892.3857, 1130.3688,  861.3227],\n",
       "        [ 749.9941,  538.9714,  627.6558,  561.2588]], device='cuda:0')"
      ]
     },
     "execution_count": 17,
     "metadata": {},
     "output_type": "execute_result"
    }
   ],
   "source": [
    "res[0].boxes.xywh"
   ]
  },
  {
   "cell_type": "code",
   "execution_count": 19,
   "metadata": {},
   "outputs": [
    {
     "name": "stdout",
     "output_type": "stream",
     "text": [
      "[\n",
      "  {\n",
      "    \"name\": \"kite\",\n",
      "    \"class\": 33,\n",
      "    \"confidence\": 0.44832,\n",
      "    \"box\": {\n",
      "      \"x1\": 12.38571,\n",
      "      \"y1\": 461.72443,\n",
      "      \"x2\": 1142.75452,\n",
      "      \"y2\": 1323.04712\n",
      "    }\n",
      "  },\n",
      "  {\n",
      "    \"name\": \"umbrella\",\n",
      "    \"class\": 25,\n",
      "    \"confidence\": 0.27022,\n",
      "    \"box\": {\n",
      "      \"x1\": 436.1662,\n",
      "      \"y1\": 258.34204,\n",
      "      \"x2\": 1063.82202,\n",
      "      \"y2\": 819.60083\n",
      "    }\n",
      "  }\n",
      "]\n"
     ]
    }
   ],
   "source": [
    "print(res[0].to_json())"
   ]
  },
  {
   "cell_type": "code",
   "execution_count": 23,
   "metadata": {},
   "outputs": [],
   "source": [
    "output = []\n",
    "from collections import Counter\n",
    "\n",
    "for data in res:\n",
    "    classes = data.boxes.cls.tolist()\n",
    "    names = data.names\n",
    "\n",
    "    # Map to class names\n",
    "    classes = map(lambda cls: names[int(cls)], classes)\n",
    "\n",
    "    # Get a count of objects detected\n",
    "    result = Counter(classes)\n",
    "    output.append(dict(result))"
   ]
  },
  {
   "cell_type": "code",
   "execution_count": 21,
   "metadata": {},
   "outputs": [
    {
     "data": {
      "text/plain": [
       "[{'kite': 1, 'umbrella': 1}]"
      ]
     },
     "execution_count": 21,
     "metadata": {},
     "output_type": "execute_result"
    }
   ],
   "source": [
    "output"
   ]
  }
 ],
 "metadata": {
  "kernelspec": {
   "display_name": "t2",
   "language": "python",
   "name": "python3"
  },
  "language_info": {
   "codemirror_mode": {
    "name": "ipython",
    "version": 3
   },
   "file_extension": ".py",
   "mimetype": "text/x-python",
   "name": "python",
   "nbconvert_exporter": "python",
   "pygments_lexer": "ipython3",
   "version": "3.12.7"
  }
 },
 "nbformat": 4,
 "nbformat_minor": 2
}

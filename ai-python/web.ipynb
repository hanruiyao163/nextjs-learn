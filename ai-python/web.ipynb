{
 "cells": [
  {
   "cell_type": "code",
   "execution_count": 7,
   "metadata": {},
   "outputs": [],
   "source": [
    "import av\n",
    "\n",
    "input_container = av.open(\"rtsp://192.168.1.102/live/zoo1\",timeout=5,  options={\"fflags\": \"nobuffer\", \"flags\": \"low_delay\"})\n",
    "input_stream = input_container.streams.video[0]"
   ]
  },
  {
   "cell_type": "code",
   "execution_count": 3,
   "metadata": {},
   "outputs": [],
   "source": [
    "import av\n",
    "import cv2\n",
    "\n",
    "# RTSP 流的 URL\n",
    "rtsp_url = \"rtsp://192.168.1.102/live/zoo1\"\n",
    "\n",
    "# 打开 RTSP 流\n",
    "container = av.open(rtsp_url)\n",
    "stream = container.streams.video[0]\n",
    "# 遍历视频流中的帧\n",
    "for frame in container.decode(stream):\n",
    "    # 将帧转换为 numpy 数组\n",
    "    img = frame.to_ndarray(format='bgr24')\n",
    "    f = cv2.cvtColor(img, cv2.COLOR_BGR2GRAY)\n",
    "    \n",
    "    # 使用 OpenCV 处理帧\n",
    "    # 例如：显示帧\n",
    "    cv2.imshow('Frame', f)\n",
    "    \n",
    "    # 按下 'q' 键退出\n",
    "    if cv2.waitKey(1) & 0xFF == ord('q'):\n",
    "        break\n",
    "\n",
    "# 释放资源\n",
    "cv2.destroyAllWindows()\n"
   ]
  },
  {
   "cell_type": "code",
   "execution_count": null,
   "metadata": {},
   "outputs": [],
   "source": [
    "import cv2\n",
    "from ultralytics import YOLO\n",
    "import av\n",
    "import subprocess as sp\n",
    "import numpy as np\n",
    "\n",
    "model = YOLO(\"yolo11n.pt\", verbose=False)\n",
    "\n",
    "\n",
    "# input_container = av.open(\"rtsp://192.168.1.107/live/zoo2\")\n",
    "# input_stream = input_container.streams.video[0]\n",
    "# rate = input_stream.base_rate\n",
    "\n",
    "cap = cv2.VideoCapture(\"rtsp://192.168.1.102/live/zoo1\")\n",
    "fps = int(cap.get(cv2.CAP_PROP_FPS))\n",
    "width = int(cap.get(cv2.CAP_PROP_FRAME_WIDTH))\n",
    "height = int(cap.get(cv2.CAP_PROP_FRAME_HEIGHT))\n",
    "\n",
    "\n",
    "freq = cv2.getTickFrequency()\n",
    "prev_tick = cv2.getTickCount()\n",
    "\n",
    "# width = input_stream.width\n",
    "# height = input_stream.height\n",
    "# fps = input_stream.base_rate\n",
    "\n",
    "command = [\n",
    "    'ffmpeg',\n",
    "    '-y',\n",
    "    '-f', 'rawvideo',\n",
    "    '-vcodec', 'rawvideo',\n",
    "    '-pix_fmt', 'bgr24',\n",
    "    '-s', \"{}x{}\".format(width, height),\n",
    "    '-r', str(fps),\n",
    "    '-i', '-',\n",
    "    '-c:v', 'libx264',\n",
    "    '-pix_fmt', 'yuv420p',\n",
    "    '-preset', 'veryfast',\n",
    "    '-f', 'rtsp',\n",
    "    '-rtsp_transport', 'tcp',\n",
    "    '-g', '5',\n",
    "    \"rtsp://192.168.1.107/live/zoo-detect\"\n",
    "]\n",
    "pipe = sp.Popen(command, stdin=sp.PIPE)\n",
    "\n",
    "while cap.isOpened():\n",
    "    ret, frame = cap.read()\n",
    "    if not ret:\n",
    "        raise IOError(\"Could not read frame from video stream.\")\n",
    "    \n",
    "    results = model(frame, verbose=False)\n",
    "\n",
    "    annotated_frame = results[0].plot()\n",
    "\n",
    "    curr_tick = cv2.getTickCount()\n",
    "    fps = freq / (curr_tick - prev_tick)\n",
    "    prev_tick = curr_tick\n",
    "\n",
    "    cv2.putText(annotated_frame, f\"FPS: {int(fps)}\", (10, 30), cv2.FONT_HERSHEY_SIMPLEX, 0.6, (0, 255, 0), 1)\n",
    "\n",
    "\n",
    "    pipe.stdin.write(annotated_frame.tobytes())\n",
    "\n"
   ]
  },
  {
   "cell_type": "code",
   "execution_count": null,
   "metadata": {},
   "outputs": [],
   "source": [
    "import av\n",
    "\n",
    "av.open('video=Iriun Webcam', format=\"dshow\") "
   ]
  },
  {
   "cell_type": "code",
   "execution_count": null,
   "metadata": {},
   "outputs": [],
   "source": []
  }
 ],
 "metadata": {
  "kernelspec": {
   "display_name": "t1",
   "language": "python",
   "name": "python3"
  },
  "language_info": {
   "codemirror_mode": {
    "name": "ipython",
    "version": 3
   },
   "file_extension": ".py",
   "mimetype": "text/x-python",
   "name": "python",
   "nbconvert_exporter": "python",
   "pygments_lexer": "ipython3",
   "version": "3.12.8"
  }
 },
 "nbformat": 4,
 "nbformat_minor": 2
}
